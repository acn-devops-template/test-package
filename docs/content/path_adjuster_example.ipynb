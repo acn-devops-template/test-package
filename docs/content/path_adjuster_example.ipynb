{
 "cells": [
  {
   "attachments": {},
   "cell_type": "markdown",
   "metadata": {},
   "source": [
    "#### This notebook shows the example of how to use these modules; \n",
    "##### Converter: path_adjuster"
   ]
  },
  {
   "attachments": {},
   "cell_type": "markdown",
   "metadata": {},
   "source": [
    "## Overview\n",
    "\n",
    "path_adjuster:\n",
    "\n",
    "    replace_conf_reference - used to replace \"conf:\" in any value of the input dict.\n"
   ]
  },
  {
   "attachments": {},
   "cell_type": "markdown",
   "metadata": {},
   "source": [
    "## replace_conf_reference"
   ]
  },
  {
   "cell_type": "code",
   "execution_count": 1,
   "metadata": {},
   "outputs": [],
   "source": [
    "from datax.utils.deployment_helper.converter.path_adjuster import replace_conf_reference"
   ]
  },
  {
   "cell_type": "code",
   "execution_count": 2,
   "metadata": {},
   "outputs": [
    {
     "data": {
      "text/plain": [
       "{'key_1': 'smth',\n",
       " 'key_2': {'sub_k1': 'nothing',\n",
       "  'sub_k2': '/test/for_test/dir/file.txt',\n",
       "  'sub_k3': None},\n",
       " 'key_3': '/test/for_test/dir/sub_dir/file.json',\n",
       " 'key_4': [1, 2],\n",
       " 'key_5': 123}"
      ]
     },
     "execution_count": 2,
     "metadata": {},
     "output_type": "execute_result"
    }
   ],
   "source": [
    "conf_path = \"/test/for_test\"\n",
    "\n",
    "mock_dict = {\n",
    "            \"key_1\": \"smth\",\n",
    "            \"key_2\": {\n",
    "                \"sub_k1\": \"nothing\",\n",
    "                \"sub_k2\": \"conf:/dir/file.txt\",\n",
    "                \"sub_k3\": None,\n",
    "            },\n",
    "            \"key_3\": \"conf:/dir/sub_dir/file.json\",\n",
    "            \"key_4\": [1, 2],\n",
    "            \"key_5\": 123,\n",
    "}\n",
    "\n",
    "replace_conf_reference(mock_dict, conf_path)"
   ]
  }
 ],
 "metadata": {
  "kernelspec": {
   "display_name": "cardx-credit-card-jAfrGjDX-py3.8",
   "language": "python",
   "name": "python3"
  },
  "language_info": {
   "codemirror_mode": {
    "name": "ipython",
    "version": 3
   },
   "file_extension": ".py",
   "mimetype": "text/x-python",
   "name": "python",
   "nbconvert_exporter": "python",
   "pygments_lexer": "ipython3",
   "version": "3.8.13"
  },
  "orig_nbformat": 4,
  "vscode": {
   "interpreter": {
    "hash": "7b3bb1da9aa43d9ac273577448e97753eaf16c6ee25cc29743c46064ce5e547b"
   }
  }
 },
 "nbformat": 4,
 "nbformat_minor": 2
}
