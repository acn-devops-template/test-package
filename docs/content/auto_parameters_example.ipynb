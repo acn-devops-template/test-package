{
    "cells": [
        {
            "cell_type": "markdown",
            "metadata": {},
            "source": [
                "#### This notebook shows the example of how to use these modules; \n",
                "##### Abstract Base Class: Task \n",
                "##### Decorators: init_auto_parameters, parse_auto_parameters, get_auto_parameters"
            ]
        },
        {
            "cell_type": "markdown",
            "metadata": {},
            "source": [
                "## Overview\n",
                "\n",
                "Tfm class:\n",
                "\n",
                "    get_auto_parameters - used to provide kwargs for Tfm class, kwargs are created from vars in conf.\n",
                "\n",
                "Pipeline class:\n",
                "\n",
                "    register_dynamic_endpoint - used to register a pipeline class into _dynamic_endpoint dict,\n",
                "                                to be called from Main class.\n",
                "    parse_auto_parameters - used to provide pipeline vars and set to self, vars are taken from conf.\n",
                "\n",
                "Main class(Task/Handler):\n",
                "\n",
                "    init_auto_parameters - used to store SparkSession, conf, DBUtils, logger into a dict to be used\n",
                "                      across the pipeline."
            ]
        },
        {
            "cell_type": "markdown",
            "metadata": {},
            "source": [
                "## Transformation Class"
            ]
        },
        {
            "cell_type": "markdown",
            "metadata": {},
            "source": [
                "\"get_auto_parameters\"\n",
                "\n",
                "Decorator function for setting transformation class objects.\n",
                "\n",
                "    The decorator will take vars from Tfm class section of conf and provide them to __init__ function\n",
                "    of Tfm class according to its function.__code__.co_varnames (vars defined in __init__).\n",
                "\n",
                "Note:\n",
                "\n",
                "    Take conf, logger, spark from _pipeline_obj (created from pipeline)\n",
                "    and pass these variables to function as keyword arguments\n",
                "    but if not being run from pipeline, this decorator does nothing."
            ]
        },
        {
            "cell_type": "code",
            "execution_count": 1,
            "metadata": {},
            "outputs": [],
            "source": [
                "# import: datax in-house\n",
                "from datax.utils.deployment_helper.decorator.auto_parameters import get_auto_parameters\n",
                "import pyspark.sql.functions as F\n",
                "\n",
                "\n",
                "class TransformationClassExample:\n",
                "    @get_auto_parameters\n",
                "    def __init__(\n",
                "        self,\n",
                "        start_date,\n",
                "        end_date,\n",
                "        with_col_str,\n",
                "        spark=None,\n",
                "        logger=None,\n",
                "    ):\n",
                "        self.spark = spark\n",
                "        self.logger = logger\n",
                "\n",
                "        self.start_date = start_date\n",
                "        self.end_date = end_date\n",
                "        \n",
                "        self.with_col_str = with_col_str\n",
                "\n",
                "    def create_df(self):\n",
                "\n",
                "        df = self.spark.createDataFrame(\n",
                "            [\n",
                "                (1, \"one\"),\n",
                "                (2, \"two\"),\n",
                "                (3, \"three\"),\n",
                "            ],\n",
                "            [\"id\", \"label\"] \n",
                "        )\n",
                "\n",
                "        return df\n",
                "\n",
                "    def transform_func(self, df):\n",
                "\n",
                "        added_df = df.withColumn(\"with_col_str\", F.lit(self.with_col_str))\n",
                "\n",
                "        return added_df\n",
                "\n",
                "    def prepare_data(self):\n",
                "        self.logger.warn(self.spark.sparkContext._conf.get(\"spark.app.name\"))\n",
                "\n",
                "        df = self.create_df()\n",
                "        fn_df = self.transform_func(df)\n",
                "\n",
                "        return fn_df\n"
            ]
        },
        {
            "cell_type": "markdown",
            "metadata": {},
            "source": [
                "## Pipeline Class"
            ]
        },
        {
            "cell_type": "markdown",
            "metadata": {},
            "source": [
                "\"register_dynamic_endpoint\":\n",
                "\n",
                "    Storing pipeline classes into \"_dynamic_endpoint\" dict so that the handler can select a module dynamically.\n",
                "\n",
                "\"parse_auto_parameters\":\n",
                "\n",
                "    Setting SparkSession, logger, DBUtils to self and a pipeline class, it also takes vars from\n",
                "    the pipeline section of conf and set them to self as well \n",
                "    (for conf, not provided to __init__ but assigned to self).\n",
                "\n",
                "Note:\n",
                "\n",
                "    Notice self.output_data_path and self.output_schema_path that can be used without defining the vars\n",
                "    because they are provided via conf."
            ]
        },
        {
            "cell_type": "code",
            "execution_count": 11,
            "metadata": {},
            "outputs": [],
            "source": [
                "# import: datax in-house\n",
                "from datax.utils.deployment_helper.decorator.dynamic_endpoint import register_dynamic_endpoint\n",
                "from datax.utils.deployment_helper.decorator.auto_parameters import parse_auto_parameters\n",
                "\n",
                "\n",
                "@register_dynamic_endpoint\n",
                "class PipelineClassExample:\n",
                "    @parse_auto_parameters\n",
                "    def __init__(\n",
                "        self,\n",
                "        start_date,\n",
                "        end_date,\n",
                "        spark,\n",
                "        conf_app,\n",
                "        logger=None,\n",
                "        dbutils=None,\n",
                "    ):\n",
                "        self.start_date = start_date\n",
                "        self.end_date = end_date\n",
                "\n",
                "        self.spark = spark\n",
                "        self.logger = logger\n",
                "        self.output_data_path = conf_app[\"PipelineClassExample\"][\"output_data_path\"]\n",
                "        self.output_schema_path = conf_app[\"PipelineClassExample\"][\"output_schema_path\"]\n",
                "\n",
                "    def execute(self):\n",
                "        self.logger.warn(self.output_data_path)\n",
                "        self.logger.warn(self.output_schema_path)\n",
                "\n",
                "        tfm_obj = TransformationClassExample(\n",
                "            self.start_date,\n",
                "            self.end_date,\n",
                "        )\n",
                "\n",
                "        df = tfm_obj.prepare_data()\n",
                "\n",
                "        return df\n"
            ]
        },
        {
            "cell_type": "markdown",
            "metadata": {},
            "source": [
                "## Main Class (Handler)"
            ]
        },
        {
            "cell_type": "markdown",
            "metadata": {},
            "source": [
                "\"init_auto_parameters\":\n",
                "\n",
                "    Storing SparkSession, conf, DBUtils, logger into a dict to be utilized by the pipeline later.\n",
                "\n",
                "Note:\n",
                "\n",
                "    Originally module, start_date, end_date are provided from CLI and argparse\n",
                "    (In this example, SimpleNamespace is used to reproduce)."
            ]
        },
        {
            "cell_type": "code",
            "execution_count": 3,
            "metadata": {},
            "outputs": [],
            "source": [
                "# import: datax in-house\n",
                "from datax.utils.deployment_helper.abstract_class.common import Task\n",
                "from datax.utils.deployment_helper.decorator.dynamic_endpoint import _dynamic_endpoint\n",
                "from datax.utils.deployment_helper.decorator.auto_parameters import init_auto_parameters\n",
                "    \n",
                "class TaskExample(Task):\n",
                "    @init_auto_parameters\n",
                "    def launch(self, args):\n",
                "        \n",
                "        self.logger.info(\"Launching task\")\n",
                "        pipeline_obj = _dynamic_endpoint[args.module](args.start_date, args.end_date)\n",
                "        ret = pipeline_obj.execute()\n",
                "\n",
                "        if ret:\n",
                "            self.logger.info(\"Pipeline execution completed.\")\n",
                "            ret.show()\n"
            ]
        },
        {
            "cell_type": "markdown",
            "metadata": {},
            "source": [
                "## Run Examples"
            ]
        },
        {
            "cell_type": "markdown",
            "metadata": {},
            "source": [
                "Prepare SparkSession"
            ]
        },
        {
            "cell_type": "code",
            "execution_count": 4,
            "metadata": {},
            "outputs": [],
            "source": [
                "from pyspark.sql import SparkSession\n",
                "\n",
                "spark = SparkSession.builder.getOrCreate()\n",
                "logger = spark._jvm.org.apache.log4j.LogManager.getLogger(\n",
                "    \"auto_parameters_example\")\n",
                "dbutils = None\n"
            ]
        },
        {
            "cell_type": "markdown",
            "metadata": {},
            "source": [
                "Transformation Class"
            ]
        },
        {
            "cell_type": "code",
            "execution_count": 5,
            "metadata": {},
            "outputs": [
                {
                    "name": "stdout",
                    "output_type": "stream",
                    "text": [
                        "+---+-----+------------+\n",
                        "| id|label|with_col_str|\n",
                        "+---+-----+------------+\n",
                        "|  1|  one|     Example|\n",
                        "|  2|  two|     Example|\n",
                        "|  3|three|     Example|\n",
                        "+---+-----+------------+\n",
                        "\n"
                    ]
                }
            ],
            "source": [
                "# run tfm\n",
                "test_tfm = TransformationClassExample(\"2022-01-01\", \"2022-01-01\", \"Example\",\n",
                "                                        spark, logger)\n",
                "test_tfm_df = test_tfm.prepare_data()\n",
                "test_tfm_df.show()\n"
            ]
        },
        {
            "cell_type": "markdown",
            "metadata": {},
            "source": [
                "Log output\n",
                "\n",
                "    10:47:10 WARN auto_parameters_example: pyspark-shell"
            ]
        },
        {
            "cell_type": "markdown",
            "metadata": {},
            "source": [
                "Pipeline Class"
            ]
        },
        {
            "cell_type": "code",
            "execution_count": 9,
            "metadata": {},
            "outputs": [
                {
                    "name": "stdout",
                    "output_type": "stream",
                    "text": [
                        "+---+-----+------------+\n",
                        "| id|label|with_col_str|\n",
                        "+---+-----+------------+\n",
                        "|  1|  one|   From_Conf|\n",
                        "|  2|  two|   From_Conf|\n",
                        "|  3|three|   From_Conf|\n",
                        "+---+-----+------------+\n",
                        "\n"
                    ]
                }
            ],
            "source": [
                "conf_app = {\n",
                "    \"PipelineClassExample\": {\n",
                "        \"data_processor_name\": \"example_processor\",\n",
                "        \"main_transformation_name\": \"example_transformation\",\n",
                "        \"output_data_path\": \"example_data_path\",\n",
                "        \"output_schema_path\": \"example_schema_path.json\"\n",
                "    },\n",
                "    \"TransformationClassExample\": {\n",
                "        \"with_col_str\": \"From_Conf\"\n",
                "    }\n",
                "    }\n",
                "\n",
                "# run pipeline\n",
                "test_pipeline = PipelineClassExample(\"2022-01-01\", \"2022-01-01\",\n",
                "                                        spark, conf_app, logger, dbutils)\n",
                "test_pipeline_df = test_pipeline.execute()\n",
                "test_pipeline_df.show()"
            ]
        },
        {
            "cell_type": "markdown",
            "metadata": {},
            "source": [
                "Log output\n",
                "\n",
                "    11:11:25 WARN auto_parameters_example: example_data_path\n",
                "    11:11:25 WARN auto_parameters_example: example_schema_path.json\n",
                "    11:11:25 WARN auto_parameters_example: pyspark-shell"
            ]
        },
        {
            "cell_type": "markdown",
            "metadata": {},
            "source": [
                "Pipeline Class with Hard-coded Tfm vars\n",
                "\n",
                "    Hard-coded Tfm vars will overwrite the same vars from conf."
            ]
        },
        {
            "cell_type": "code",
            "execution_count": 7,
            "metadata": {},
            "outputs": [],
            "source": [
                "# import: datax in-house\n",
                "from datax.utils.deployment_helper.decorator.dynamic_endpoint import register_dynamic_endpoint\n",
                "from datax.utils.deployment_helper.decorator.auto_parameters import parse_auto_parameters\n",
                "\n",
                "@register_dynamic_endpoint\n",
                "class PipelineClassExample:\n",
                "    @parse_auto_parameters\n",
                "    def __init__(\n",
                "        self,\n",
                "        start_date,\n",
                "        end_date,\n",
                "        spark,\n",
                "        conf_app,\n",
                "        logger=None,\n",
                "        dbutils=None,\n",
                "    ):\n",
                "        self.start_date = start_date\n",
                "        self.end_date = end_date\n",
                "\n",
                "        self.spark = spark\n",
                "        self.logger = logger\n",
                "        self.output_data_path = conf_app[\"PipelineClassExample\"][\"output_data_path\"]\n",
                "        self.output_schema_path = conf_app[\"PipelineClassExample\"][\"output_schema_path\"]\n",
                "\n",
                "    def execute(self):\n",
                "        self.logger.warn(self.output_data_path)\n",
                "        self.logger.warn(self.output_schema_path)\n",
                "\n",
                "        tfm_obj = TransformationClassExample(\n",
                "            self.start_date,\n",
                "            self.end_date,\n",
                "            \"From_Hard_coding\"\n",
                "        )\n",
                "\n",
                "        df = tfm_obj.prepare_data()\n",
                "\n",
                "        return df\n"
            ]
        },
        {
            "cell_type": "code",
            "execution_count": 6,
            "metadata": {},
            "outputs": [
                {
                    "name": "stdout",
                    "output_type": "stream",
                    "text": [
                        "+---+-----+----------------+\n",
                        "| id|label|    with_col_str|\n",
                        "+---+-----+----------------+\n",
                        "|  1|  one|From_Hard_coding|\n",
                        "|  2|  two|From_Hard_coding|\n",
                        "|  3|three|From_Hard_coding|\n",
                        "+---+-----+----------------+\n",
                        "\n"
                    ]
                }
            ],
            "source": [
                "conf_app = {\n",
                "    \"PipelineClassExample\": {\n",
                "        \"data_processor_name\": \"example_processor\",\n",
                "        \"main_transformation_name\": \"example_transformation\",\n",
                "        \"output_data_path\": \"example_data_path\",\n",
                "        \"output_schema_path\": \"example_schema_path.json\"\n",
                "    }\n",
                "    }\n",
                "\n",
                "# run pipeline\n",
                "test_pipeline = PipelineClassExample(\"2022-01-01\", \"2022-01-01\",\n",
                "                                        spark, conf_app, logger, dbutils)\n",
                "test_pipeline_df = test_pipeline.execute()\n",
                "test_pipeline_df.show()"
            ]
        },
        {
            "cell_type": "code",
            "execution_count": 7,
            "metadata": {},
            "outputs": [
                {
                    "name": "stdout",
                    "output_type": "stream",
                    "text": [
                        "+---+-----+----------------+\n",
                        "| id|label|    with_col_str|\n",
                        "+---+-----+----------------+\n",
                        "|  1|  one|From_Hard_coding|\n",
                        "|  2|  two|From_Hard_coding|\n",
                        "|  3|three|From_Hard_coding|\n",
                        "+---+-----+----------------+\n",
                        "\n"
                    ]
                }
            ],
            "source": [
                "conf_app = {\n",
                "    \"PipelineClassExample\": {\n",
                "        \"data_processor_name\": \"example_processor\",\n",
                "        \"main_transformation_name\": \"example_transformation\",\n",
                "        \"output_data_path\": \"example_data_path\",\n",
                "        \"output_schema_path\": \"example_schema_path.json\"\n",
                "    },\n",
                "    \"TransformationClassExample\": {\n",
                "        \"with_col_str\": \"This_will_not_be_used\"\n",
                "    }\n",
                "    }\n",
                "\n",
                "# run pipeline\n",
                "test_pipeline = PipelineClassExample(\"2022-01-01\", \"2022-01-01\",\n",
                "                                        spark, conf_app, logger, dbutils)\n",
                "test_pipeline_df = test_pipeline.execute()\n",
                "test_pipeline_df.show()"
            ]
        },
        {
            "cell_type": "markdown",
            "metadata": {},
            "source": [
                "Handler"
            ]
        },
        {
            "cell_type": "code",
            "execution_count": 8,
            "metadata": {},
            "outputs": [
                {
                    "name": "stdout",
                    "output_type": "stream",
                    "text": [
                        "+---+-----+------------+\n",
                        "| id|label|with_col_str|\n",
                        "+---+-----+------------+\n",
                        "|  1|  one|   From_Conf|\n",
                        "|  2|  two|   From_Conf|\n",
                        "|  3|three|   From_Conf|\n",
                        "+---+-----+------------+\n",
                        "\n"
                    ]
                }
            ],
            "source": [
                "from types import SimpleNamespace \n",
                "\n",
                "conf_app = {\n",
                "        \"PipelineClassExample\": {\n",
                "            \"data_processor_name\": \"example_processor\",\n",
                "            \"main_transformation_name\": \"example_transformation\",\n",
                "            \"output_data_path\": \"example_data_path\",\n",
                "            \"output_schema_path\": \"example_schema_path.json\"\n",
                "        },\n",
                "        \"TransformationClassExample\": {\n",
                "            \"with_col_str\": \"From_Conf\"\n",
                "        }\n",
                "    }\n",
                "\n",
                "module_name = \"PipelineClassExample\"\n",
                "\n",
                "sn = SimpleNamespace(module=module_name, start_date=\"2022-01-01\", end_date=\"2022-01-01\")\n",
                "\n",
                "test_task = TaskExample(init_conf_app=conf_app, module_name=module_name)\n",
                "test_task.launch(sn)"
            ]
        },
        {
            "cell_type": "markdown",
            "metadata": {},
            "source": [
                "Log output\n",
                "\n",
                "    11:15:28 WARN TaskExample: No DBUtils defined in the runtime\n",
                "    11:15:28 WARN TaskExample: example_data_path\n",
                "    11:15:28 WARN TaskExample: example_schema_path.json\n",
                "    11:15:28 WARN TaskExample: pyspark-shell\n",
                "\n",
                "Note:\n",
                "\n",
                "    Log in TaskExample does not show up in the output because the Setting default log level is \"WARN\"."
            ]
        }
    ],
    "metadata": {
        "kernelspec": {
            "display_name": "Python 3.8.13 ('datax-utils-deployment-helper-eHLT3SOf-py3.8')",
            "language": "python",
            "name": "python3"
        },
        "language_info": {
            "codemirror_mode": {
                "name": "ipython",
                "version": 3
            },
            "file_extension": ".py",
            "mimetype": "text/x-python",
            "name": "python",
            "nbconvert_exporter": "python",
            "pygments_lexer": "ipython3",
            "version": "3.8.13 (default, Mar 28 2022, 06:59:08) [MSC v.1916 64 bit (AMD64)]"
        },
        "orig_nbformat": 4,
        "vscode": {
            "interpreter": {
                "hash": "a81f2a742e2d290ad8f1b33ef1e86ce4a871e655c8efa2fefdfaa1f40f888027"
            }
        }
    },
    "nbformat": 4,
    "nbformat_minor": 2
}
